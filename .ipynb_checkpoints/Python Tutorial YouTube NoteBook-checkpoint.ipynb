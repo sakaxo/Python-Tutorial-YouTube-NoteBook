{
 "cells": [
  {
   "cell_type": "markdown",
   "id": "f084424e",
   "metadata": {},
   "source": [
    " # <div  style='text-align: center;'>Table of contents </div>\n",
    " \n",
    " \n",
    " \n",
    " "
   ]
  },
  {
   "cell_type": "markdown",
   "id": "1ac5ba36",
   "metadata": {},
   "source": [
    "## Module 1\n",
    "> 1. We installed python\n",
    "> 2. Talk about text editors and IDE for python programming.\n",
    "> 3. Wrote <font color=red > Hello, world </font> program."
   ]
  },
  {
   "cell_type": "code",
   "execution_count": 1,
   "id": "0aaaf3e3",
   "metadata": {},
   "outputs": [
    {
     "name": "stdout",
     "output_type": "stream",
     "text": [
      "hello world\n"
     ]
    }
   ],
   "source": [
    "print('hello world')"
   ]
  },
  {
   "cell_type": "code",
   "execution_count": 2,
   "id": "05169d27",
   "metadata": {},
   "outputs": [
    {
     "name": "stdout",
     "output_type": "stream",
     "text": [
      "I am learning python programming\n"
     ]
    }
   ],
   "source": [
    "print(\"I am learning python programming\")"
   ]
  },
  {
   "cell_type": "code",
   "execution_count": 3,
   "id": "7ce8b5c8",
   "metadata": {},
   "outputs": [
    {
     "name": "stdout",
     "output_type": "stream",
     "text": [
      "Coding is fun\n"
     ]
    }
   ],
   "source": [
    "print(\"Coding is fun\")"
   ]
  },
  {
   "cell_type": "markdown",
   "id": "10b90fcc",
   "metadata": {},
   "source": [
    "End of module 1"
   ]
  },
  {
   "cell_type": "code",
   "execution_count": null,
   "id": "72c98c3c",
   "metadata": {},
   "outputs": [],
   "source": []
  },
  {
   "attachments": {
    "image-2.png": {
     "image/png": "[encoded data removed]"
    }
   },
   "cell_type": "markdown",
   "id": "4b36974d",
   "metadata": {},
   "source": [
    "## Module 2 (Basic Concepts)\n",
    "![image-2.png](attachment:image-2.png)"
   ]
  },
  {
   "cell_type": "markdown",
   "id": "f3329c04",
   "metadata": {},
   "source": [
    "#### Module 2(1) | **Variables**"
   ]
  },
  {
   "cell_type": "code",
   "execution_count": 4,
   "id": "cfc1ddfc",
   "metadata": {},
   "outputs": [
    {
     "ename": "NameError",
     "evalue": "name 'value' is not defined",
     "output_type": "error",
     "traceback": [
      "\u001b[1;31m---------------------------------------------------------------------------\u001b[0m",
      "\u001b[1;31mNameError\u001b[0m                                 Traceback (most recent call last)",
      "\u001b[1;32m~\\AppData\\Local\\Temp/ipykernel_6944/2956659535.py\u001b[0m in \u001b[0;36m<module>\u001b[1;34m\u001b[0m\n\u001b[1;32m----> 1\u001b[1;33m \u001b[0mnamevariable\u001b[0m \u001b[1;33m=\u001b[0m \u001b[0mvalue\u001b[0m\u001b[1;33m\u001b[0m\u001b[1;33m\u001b[0m\u001b[0m\n\u001b[0m",
      "\u001b[1;31mNameError\u001b[0m: name 'value' is not defined"
     ]
    }
   ],
   "source": [
    "namevariable = value"
   ]
  },
  {
   "cell_type": "code",
   "execution_count": null,
   "id": "4798a451",
   "metadata": {},
   "outputs": [],
   "source": [
    "number = 6"
   ]
  },
  {
   "cell_type": "code",
   "execution_count": null,
   "id": "4acfe403",
   "metadata": {},
   "outputs": [],
   "source": [
    "name = 'seb'"
   ]
  },
  {
   "cell_type": "code",
   "execution_count": null,
   "id": "22f6e1ff",
   "metadata": {},
   "outputs": [],
   "source": [
    "print(number)"
   ]
  },
  {
   "cell_type": "code",
   "execution_count": null,
   "id": "ee68cca1",
   "metadata": {},
   "outputs": [],
   "source": [
    "print(name)"
   ]
  },
  {
   "cell_type": "code",
   "execution_count": null,
   "id": "f1779790",
   "metadata": {},
   "outputs": [],
   "source": [
    "age = 18\n"
   ]
  },
  {
   "cell_type": "code",
   "execution_count": null,
   "id": "fcbdf93d",
   "metadata": {},
   "outputs": [],
   "source": [
    "print(age)"
   ]
  },
  {
   "cell_type": "markdown",
   "id": "84c8c3aa",
   "metadata": {},
   "source": [
    "### Rules in naming variables"
   ]
  },
  {
   "cell_type": "markdown",
   "id": "a0c132fe",
   "metadata": {},
   "source": [
    "1. A variable name must start with a letter or the underscore character"
   ]
  },
  {
   "cell_type": "code",
   "execution_count": null,
   "id": "ba5db654",
   "metadata": {},
   "outputs": [],
   "source": [
    "_name = \"James\""
   ]
  },
  {
   "cell_type": "code",
   "execution_count": null,
   "id": "38e42056",
   "metadata": {},
   "outputs": [],
   "source": [
    "print(name)"
   ]
  },
  {
   "cell_type": "code",
   "execution_count": null,
   "id": "1d1c91c5",
   "metadata": {},
   "outputs": [],
   "source": [
    "print(_name)"
   ]
  },
  {
   "cell_type": "markdown",
   "id": "6db023a3",
   "metadata": {},
   "source": [
    "2. A variable name cannot start with a number"
   ]
  },
  {
   "cell_type": "code",
   "execution_count": null,
   "id": "3f43d0f1",
   "metadata": {},
   "outputs": [],
   "source": [
    "4age = 6"
   ]
  },
  {
   "cell_type": "markdown",
   "id": "a50d014f",
   "metadata": {},
   "source": [
    "3. A variable name can only contain alpha-numeric characters and underscores (A-z, 0-9, and _ )"
   ]
  },
  {
   "cell_type": "code",
   "execution_count": null,
   "id": "df2a2af9",
   "metadata": {},
   "outputs": [],
   "source": [
    "age4 = 734"
   ]
  },
  {
   "cell_type": "code",
   "execution_count": null,
   "id": "7f1f2e06",
   "metadata": {},
   "outputs": [],
   "source": [
    "print(age4)"
   ]
  },
  {
   "cell_type": "markdown",
   "id": "fd2651b5",
   "metadata": {},
   "source": [
    "ariable names are case-sensitive"
   ]
  },
  {
   "cell_type": "code",
   "execution_count": null,
   "id": "230d5b96",
   "metadata": {},
   "outputs": [],
   "source": [
    "myname = \"Sebastian\""
   ]
  },
  {
   "cell_type": "code",
   "execution_count": null,
   "id": "b1ce101a",
   "metadata": {},
   "outputs": [],
   "source": [
    "print(Myname)"
   ]
  },
  {
   "cell_type": "code",
   "execution_count": null,
   "id": "ea117ed5",
   "metadata": {},
   "outputs": [],
   "source": [
    "print(myName)"
   ]
  },
  {
   "cell_type": "code",
   "execution_count": null,
   "id": "2e1f4d60",
   "metadata": {},
   "outputs": [],
   "source": [
    "print(myname)"
   ]
  },
  {
   "cell_type": "markdown",
   "id": "863ff894",
   "metadata": {},
   "source": [
    "4. A variable name cannot be any of the Python keywords."
   ]
  },
  {
   "cell_type": "code",
   "execution_count": null,
   "id": "2201ae14",
   "metadata": {},
   "outputs": [],
   "source": [
    "if = 83"
   ]
  },
  {
   "cell_type": "code",
   "execution_count": null,
   "id": "67debc05",
   "metadata": {},
   "outputs": [],
   "source": [
    "pass  = \"anything\""
   ]
  },
  {
   "cell_type": "markdown",
   "id": "c9c4c26b",
   "metadata": {},
   "source": [
    "example of python keywords.\n",
    "> 1. set\n",
    "> 2. list\n",
    "> 3. dict\n",
    "> 4. return\n",
    "> 5. <a href=\"https://www.programiz.com/python-programming/keyword-list\">more here</a>\n",
    "\n"
   ]
  },
  {
   "cell_type": "code",
   "execution_count": null,
   "id": "b2d2ad94",
   "metadata": {},
   "outputs": [],
   "source": []
  },
  {
   "cell_type": "markdown",
   "id": "70b48234",
   "metadata": {},
   "source": [
    "#### Module 2(2) | **Data types in python**\n",
    "\n",
    "*List of python data types*\n",
    "1. str (string)\n",
    "2. int (integer)\n",
    "3. float (decimal number)\n",
    "4. dict\n",
    "5. bool\n",
    "6. set, frozenset\n",
    "7. complex"
   ]
  },
  {
   "cell_type": "code",
   "execution_count": null,
   "id": "80148d57",
   "metadata": {},
   "outputs": [],
   "source": [
    "age = 6\n",
    "name = \"sebastian\""
   ]
  },
  {
   "cell_type": "markdown",
   "id": "2a50de47",
   "metadata": {},
   "source": [
    "Built-in Data Types\n",
    "\n",
    "1. Text Type:\tstr"
   ]
  },
  {
   "cell_type": "code",
   "execution_count": null,
   "id": "c1cc95c4",
   "metadata": {},
   "outputs": [],
   "source": [
    "fruit = 'banana'"
   ]
  },
  {
   "cell_type": "code",
   "execution_count": null,
   "id": "e5e21e2b",
   "metadata": {},
   "outputs": [],
   "source": [
    "type(fruit)"
   ]
  },
  {
   "cell_type": "code",
   "execution_count": null,
   "id": "bce20fd1",
   "metadata": {},
   "outputs": [],
   "source": [
    "type(age)"
   ]
  },
  {
   "cell_type": "code",
   "execution_count": null,
   "id": "7ac18b83",
   "metadata": {},
   "outputs": [],
   "source": [
    "fruits = \"banana, orange, mango\""
   ]
  },
  {
   "cell_type": "code",
   "execution_count": null,
   "id": "448bf910",
   "metadata": {},
   "outputs": [],
   "source": [
    "print(fruits)"
   ]
  },
  {
   "cell_type": "code",
   "execution_count": null,
   "id": "27fc5748",
   "metadata": {},
   "outputs": [],
   "source": [
    "type(fruits)"
   ]
  },
  {
   "cell_type": "markdown",
   "id": "357ff51c",
   "metadata": {},
   "source": [
    "2. Numeric Types:\tint, float, complex"
   ]
  },
  {
   "cell_type": "code",
   "execution_count": null,
   "id": "3e9ea0bf",
   "metadata": {},
   "outputs": [],
   "source": [
    "# integer\n",
    "num_of_items = 10"
   ]
  },
  {
   "cell_type": "code",
   "execution_count": null,
   "id": "f9c943ed",
   "metadata": {},
   "outputs": [],
   "source": [
    "type(num_of_items)"
   ]
  },
  {
   "cell_type": "code",
   "execution_count": null,
   "id": "8586f94c",
   "metadata": {},
   "outputs": [],
   "source": [
    "mark = 70.5"
   ]
  },
  {
   "cell_type": "code",
   "execution_count": null,
   "id": "2ee2afb9",
   "metadata": {},
   "outputs": [],
   "source": [
    "type(mark)"
   ]
  },
  {
   "cell_type": "markdown",
   "id": "fe689204",
   "metadata": {},
   "source": [
    "3. Sequence Types:\tlist, tuple"
   ]
  },
  {
   "cell_type": "code",
   "execution_count": null,
   "id": "4769ea72",
   "metadata": {},
   "outputs": [],
   "source": [
    " names = ['seb','James', 'John']"
   ]
  },
  {
   "cell_type": "code",
   "execution_count": null,
   "id": "3319b88e",
   "metadata": {},
   "outputs": [],
   "source": [
    "print(names)"
   ]
  },
  {
   "cell_type": "code",
   "execution_count": null,
   "id": "1e84464e",
   "metadata": {},
   "outputs": [],
   "source": [
    "ages = (34,60,15)"
   ]
  },
  {
   "cell_type": "code",
   "execution_count": null,
   "id": "b460923c",
   "metadata": {},
   "outputs": [],
   "source": [
    "print(ages)"
   ]
  },
  {
   "cell_type": "markdown",
   "id": "d73cae4e",
   "metadata": {},
   "source": [
    "4. Set Types:\tset, frozenset\n",
    "5. Boolean Type:\tbool\n",
    "6. None Type:\tNoneType\n",
    "7. Mapping Type:\tdict"
   ]
  },
  {
   "cell_type": "code",
   "execution_count": null,
   "id": "fe1405cc",
   "metadata": {},
   "outputs": [],
   "source": [
    "persons = {\n",
    "    'name': \"seb, John\",\n",
    "    'age': [45, 89]\n",
    "}"
   ]
  },
  {
   "cell_type": "code",
   "execution_count": null,
   "id": "ed8c5b8b",
   "metadata": {},
   "outputs": [],
   "source": [
    "print(persons)"
   ]
  },
  {
   "cell_type": "code",
   "execution_count": null,
   "id": "4f205b44",
   "metadata": {},
   "outputs": [],
   "source": [
    "type(names)"
   ]
  },
  {
   "cell_type": "code",
   "execution_count": null,
   "id": "36c99113",
   "metadata": {},
   "outputs": [],
   "source": [
    "type(age)"
   ]
  },
  {
   "cell_type": "code",
   "execution_count": null,
   "id": "2b47836d",
   "metadata": {},
   "outputs": [],
   "source": [
    "type(ages)"
   ]
  },
  {
   "cell_type": "code",
   "execution_count": null,
   "id": "85730b43",
   "metadata": {},
   "outputs": [],
   "source": []
  },
  {
   "cell_type": "code",
   "execution_count": null,
   "id": "f3d9aa4c",
   "metadata": {},
   "outputs": [],
   "source": [
    " #checking type of persons variable\n",
    "type(persons)"
   ]
  },
  {
   "cell_type": "code",
   "execution_count": null,
   "id": "b88a050e",
   "metadata": {},
   "outputs": [],
   "source": [
    "None"
   ]
  },
  {
   "cell_type": "markdown",
   "id": "a5e35937",
   "metadata": {},
   "source": [
    "End of python data types, read more <a href=\"https://docs.python.org/3/library/stdtypes.html\">about data types here</a> or\n",
    "<a href=\"https://www.geeksforgeeks.org/python-data-types/\">here</a>\n"
   ]
  },
  {
   "cell_type": "code",
   "execution_count": null,
   "id": "3086cc2e",
   "metadata": {},
   "outputs": [],
   "source": []
  },
  {
   "cell_type": "code",
   "execution_count": null,
   "id": "eb446518",
   "metadata": {},
   "outputs": [],
   "source": [
    "# comments"
   ]
  },
  {
   "cell_type": "code",
   "execution_count": null,
   "id": "2727d1ed",
   "metadata": {},
   "outputs": [],
   "source": [
    "x = 5 # first number\n",
    "y = 90 # second number"
   ]
  },
  {
   "cell_type": "code",
   "execution_count": null,
   "id": "80e166c3",
   "metadata": {},
   "outputs": [],
   "source": [
    "# result of addition\n",
    "#print(x+y)"
   ]
  },
  {
   "cell_type": "code",
   "execution_count": null,
   "id": "b924373e",
   "metadata": {},
   "outputs": [],
   "source": [
    "print(x+y)"
   ]
  },
  {
   "cell_type": "code",
   "execution_count": null,
   "id": "3831a399",
   "metadata": {},
   "outputs": [],
   "source": [
    "# my name is seb\n",
    "# I am 10 years old\n",
    "#"
   ]
  },
  {
   "cell_type": "code",
   "execution_count": null,
   "id": "8acec675",
   "metadata": {},
   "outputs": [],
   "source": [
    "\"\"\"\n",
    "my name is seb and \n",
    "I am 20 years old\n",
    "\"\"\""
   ]
  },
  {
   "cell_type": "code",
   "execution_count": null,
   "id": "87870d9e",
   "metadata": {},
   "outputs": [],
   "source": [
    "'''\n",
    "\n",
    "'''"
   ]
  },
  {
   "cell_type": "code",
   "execution_count": null,
   "id": "300806c3",
   "metadata": {},
   "outputs": [],
   "source": [
    "x = 5"
   ]
  },
  {
   "cell_type": "markdown",
   "id": "85c7a1ed",
   "metadata": {},
   "source": []
  },
  {
   "cell_type": "markdown",
   "id": "e0f026c3",
   "metadata": {},
   "source": [
    "#### Module 2(4) | **Python Arithmetic Operators**\n",
    "\n",
    "1. addition +\n",
    "2. mult *\n",
    "3. subt -\n",
    "4. div /\n",
    "5. modulus %\n",
    "6. exponent **\n",
    "7. floor div //"
   ]
  },
  {
   "cell_type": "code",
   "execution_count": null,
   "id": "6b23e9c2",
   "metadata": {},
   "outputs": [],
   "source": [
    "6 + 9"
   ]
  },
  {
   "cell_type": "code",
   "execution_count": null,
   "id": "20008646",
   "metadata": {},
   "outputs": [],
   "source": [
    "num1 = 83\n",
    "num2 = 63"
   ]
  },
  {
   "cell_type": "code",
   "execution_count": null,
   "id": "c6af9120",
   "metadata": {},
   "outputs": [],
   "source": [
    "num1 + num2"
   ]
  },
  {
   "cell_type": "code",
   "execution_count": null,
   "id": "e8b75223",
   "metadata": {},
   "outputs": [],
   "source": [
    "num1 / num2"
   ]
  },
  {
   "cell_type": "code",
   "execution_count": null,
   "id": "6cf57703",
   "metadata": {},
   "outputs": [],
   "source": [
    "x= 2"
   ]
  },
  {
   "cell_type": "code",
   "execution_count": null,
   "id": "826ceda4",
   "metadata": {},
   "outputs": [],
   "source": [
    "2**2"
   ]
  },
  {
   "cell_type": "code",
   "execution_count": null,
   "id": "ed09ceda",
   "metadata": {},
   "outputs": [],
   "source": [
    "x**2"
   ]
  },
  {
   "cell_type": "code",
   "execution_count": null,
   "id": "15e9d4f9",
   "metadata": {},
   "outputs": [],
   "source": [
    "num1 - num2"
   ]
  },
  {
   "cell_type": "code",
   "execution_count": null,
   "id": "f54292a4",
   "metadata": {},
   "outputs": [],
   "source": [
    "num1/num2"
   ]
  },
  {
   "cell_type": "code",
   "execution_count": null,
   "id": "0e85a991",
   "metadata": {},
   "outputs": [],
   "source": [
    "num1//num2"
   ]
  },
  {
   "cell_type": "code",
   "execution_count": null,
   "id": "cba07c60",
   "metadata": {},
   "outputs": [],
   "source": [
    "99/2"
   ]
  },
  {
   "cell_type": "code",
   "execution_count": null,
   "id": "b27a9ddb",
   "metadata": {},
   "outputs": [],
   "source": [
    "99//2"
   ]
  },
  {
   "cell_type": "code",
   "execution_count": null,
   "id": "2bc637e3",
   "metadata": {},
   "outputs": [],
   "source": [
    "99%2"
   ]
  },
  {
   "cell_type": "code",
   "execution_count": null,
   "id": "ce40e2fd",
   "metadata": {},
   "outputs": [],
   "source": [
    "x = 8"
   ]
  },
  {
   "cell_type": "code",
   "execution_count": null,
   "id": "0a039f8c",
   "metadata": {},
   "outputs": [],
   "source": [
    "y = x + 3"
   ]
  },
  {
   "cell_type": "code",
   "execution_count": null,
   "id": "5db988f1",
   "metadata": {},
   "outputs": [],
   "source": [
    "print(y)"
   ]
  },
  {
   "cell_type": "code",
   "execution_count": null,
   "id": "6efa8d70",
   "metadata": {},
   "outputs": [],
   "source": [
    "x / 3"
   ]
  },
  {
   "cell_type": "code",
   "execution_count": null,
   "id": "6b6ee94c",
   "metadata": {},
   "outputs": [],
   "source": [
    "# value of x given in the question\n",
    "x = 6"
   ]
  },
  {
   "cell_type": "code",
   "execution_count": null,
   "id": "15af2a87",
   "metadata": {},
   "outputs": [],
   "source": [
    "# solution to question a\n",
    "3*x + 4"
   ]
  },
  {
   "cell_type": "code",
   "execution_count": null,
   "id": "37f0d977",
   "metadata": {},
   "outputs": [],
   "source": [
    "# solution to question b\n",
    "2*x + 3 "
   ]
  },
  {
   "cell_type": "code",
   "execution_count": null,
   "id": "5bf80ffe",
   "metadata": {},
   "outputs": [],
   "source": [
    "# solution to question d\n",
    "\n",
    "x/2 - 2\n"
   ]
  },
  {
   "cell_type": "code",
   "execution_count": null,
   "id": "93d9b79b",
   "metadata": {},
   "outputs": [],
   "source": [
    "2*x + 3*x + 5*x"
   ]
  },
  {
   "cell_type": "code",
   "execution_count": null,
   "id": "463f0672",
   "metadata": {},
   "outputs": [],
   "source": [
    "(2*x) + (3*x) + (5*x)"
   ]
  },
  {
   "cell_type": "code",
   "execution_count": null,
   "id": "8c2e5d20",
   "metadata": {},
   "outputs": [],
   "source": [
    "x = 2\n",
    "y = 3\n",
    "\n",
    "(3*x*y) + (2*x*y)"
   ]
  },
  {
   "cell_type": "code",
   "execution_count": null,
   "id": "bea657a1",
   "metadata": {},
   "outputs": [],
   "source": [
    "4*(x**2) - 3*(x**2)"
   ]
  },
  {
   "cell_type": "code",
   "execution_count": null,
   "id": "037b0f4e",
   "metadata": {},
   "outputs": [],
   "source": []
  },
  {
   "cell_type": "code",
   "execution_count": null,
   "id": "66f8a0a7",
   "metadata": {},
   "outputs": [],
   "source": [
    "x = 3\n",
    "y = 5"
   ]
  },
  {
   "cell_type": "code",
   "execution_count": null,
   "id": "fef2b75a",
   "metadata": {},
   "outputs": [],
   "source": [
    "4*(x**2)*y - 3*(x**2)*y + 3*x*(y**2)"
   ]
  },
  {
   "cell_type": "markdown",
   "id": "c7e24ac8",
   "metadata": {},
   "source": [
    "**Assignment 1**\n",
    "\n",
    "1. Write a Python expression to calculate the area of a circle with a radius of 5 units. Use the formula: Area = π * r^2.\n",
    "2. If the area of a circle is 25 square units, what is the radius of the circle?\n",
    "3. Write a Python program that calculates the volume of a cone given its height and radius."
   ]
  },
  {
   "cell_type": "code",
   "execution_count": null,
   "id": "c2a86bfc",
   "metadata": {},
   "outputs": [],
   "source": [
    "# Answer question 1 here\n",
    "\n",
    "\n"
   ]
  },
  {
   "cell_type": "code",
   "execution_count": null,
   "id": "937417f7",
   "metadata": {},
   "outputs": [],
   "source": [
    "# Answer question 2 here\n",
    "\n",
    "\n"
   ]
  },
  {
   "cell_type": "code",
   "execution_count": null,
   "id": "11f0600e",
   "metadata": {},
   "outputs": [],
   "source": [
    "# Answer question 3 here\n",
    "\n",
    "\n"
   ]
  },
  {
   "cell_type": "markdown",
   "id": "d64a25c0",
   "metadata": {},
   "source": [
    "\n",
    "#### Module 2(5) | **Python Assignment  Operators**\n",
    "\n",
    "> 1. = \n",
    "> 2. +=\n",
    "> 3. -=\n",
    "> 4. *=\n",
    "> 5. /=\n",
    "> 6. %=\n",
    "> 7. //=\n",
    "> 8. **=\n"
   ]
  },
  {
   "cell_type": "code",
   "execution_count": null,
   "id": "3dd8989a",
   "metadata": {},
   "outputs": [],
   "source": [
    "num  = 4"
   ]
  },
  {
   "cell_type": "code",
   "execution_count": null,
   "id": "9c49b112",
   "metadata": {},
   "outputs": [],
   "source": [
    "# num = num + 2\n",
    "num += 2\n",
    "print(num)"
   ]
  },
  {
   "cell_type": "code",
   "execution_count": null,
   "id": "2a008a73",
   "metadata": {},
   "outputs": [],
   "source": [
    "my_age = 0\n",
    "\n",
    "my_age -= 5\n",
    "\n",
    "print(my_age)"
   ]
  },
  {
   "cell_type": "code",
   "execution_count": null,
   "id": "ec836a32",
   "metadata": {},
   "outputs": [],
   "source": [
    "#my_age = my_age - 5"
   ]
  },
  {
   "cell_type": "code",
   "execution_count": null,
   "id": "425e5efc",
   "metadata": {},
   "outputs": [],
   "source": [
    "xx  = 3"
   ]
  },
  {
   "cell_type": "code",
   "execution_count": null,
   "id": "e28a10f2",
   "metadata": {},
   "outputs": [],
   "source": [
    "xx **= 2 # xx = xx**2\n",
    "print(xx)"
   ]
  },
  {
   "cell_type": "code",
   "execution_count": null,
   "id": "6842d045",
   "metadata": {},
   "outputs": [],
   "source": [
    "even = 20"
   ]
  },
  {
   "cell_type": "code",
   "execution_count": null,
   "id": "e1040118",
   "metadata": {},
   "outputs": [],
   "source": [
    "even /= 5 # even = even / 5\n",
    "print(even)"
   ]
  },
  {
   "cell_type": "code",
   "execution_count": null,
   "id": "61a7ddf2",
   "metadata": {},
   "outputs": [],
   "source": []
  },
  {
   "cell_type": "code",
   "execution_count": null,
   "id": "dfb23d8e",
   "metadata": {},
   "outputs": [],
   "source": []
  },
  {
   "cell_type": "markdown",
   "id": "56f6b49e",
   "metadata": {},
   "source": [
    "#### Module 2(6) | **Python Comparison  Operators**\n",
    "\n",
    "> <li> == </li>\n",
    "> <li> != </li>\n",
    "> <li> > </li>\n",
    "> <li> < </li>\n",
    "> <li> >= </li>\n",
    "> <li> <= </li>\n"
   ]
  },
  {
   "cell_type": "code",
   "execution_count": null,
   "id": "b1d21184",
   "metadata": {},
   "outputs": [],
   "source": [
    "x = 90\n",
    "y = 20\n",
    "z = 10"
   ]
  },
  {
   "cell_type": "code",
   "execution_count": null,
   "id": "3d3ec37f",
   "metadata": {},
   "outputs": [],
   "source": [
    "x == 2"
   ]
  },
  {
   "cell_type": "code",
   "execution_count": null,
   "id": "6e5f3eb5",
   "metadata": {},
   "outputs": [],
   "source": [
    "4 == 1"
   ]
  },
  {
   "cell_type": "code",
   "execution_count": null,
   "id": "7f5ec135",
   "metadata": {},
   "outputs": [],
   "source": [
    "80 == 80"
   ]
  },
  {
   "cell_type": "code",
   "execution_count": null,
   "id": "c0694b58",
   "metadata": {},
   "outputs": [],
   "source": [
    "90 != 5"
   ]
  },
  {
   "cell_type": "code",
   "execution_count": null,
   "id": "2a991aa6",
   "metadata": {},
   "outputs": [],
   "source": [
    "6 > 4"
   ]
  },
  {
   "cell_type": "code",
   "execution_count": null,
   "id": "8fed99e6",
   "metadata": {},
   "outputs": [],
   "source": [
    "6 < 4"
   ]
  },
  {
   "cell_type": "code",
   "execution_count": null,
   "id": "3d5e05c4",
   "metadata": {},
   "outputs": [],
   "source": [
    " 8 >= 7"
   ]
  },
  {
   "cell_type": "code",
   "execution_count": null,
   "id": "fe538ce5",
   "metadata": {},
   "outputs": [],
   "source": [
    "4 >= 7"
   ]
  },
  {
   "cell_type": "code",
   "execution_count": null,
   "id": "d31aa8d3",
   "metadata": {},
   "outputs": [],
   "source": [
    "7 >= 7"
   ]
  },
  {
   "cell_type": "code",
   "execution_count": null,
   "id": "8e470d5a",
   "metadata": {},
   "outputs": [],
   "source": [
    "age = 50"
   ]
  },
  {
   "cell_type": "code",
   "execution_count": null,
   "id": "c77dbb21",
   "metadata": {},
   "outputs": [],
   "source": [
    "if age > 18:\n",
    "    print(\"you're allowed to view this site\")\n",
    "    \n",
    "else:\n",
    "    print(\"babies are not allowed to use this system\")"
   ]
  },
  {
   "cell_type": "code",
   "execution_count": null,
   "id": "8070b9ce",
   "metadata": {},
   "outputs": [],
   "source": []
  },
  {
   "cell_type": "code",
   "execution_count": null,
   "id": "49cfe2e9",
   "metadata": {},
   "outputs": [],
   "source": [
    "bankAccountBalance = 275.50\n",
    "amountToSend = 200"
   ]
  },
  {
   "cell_type": "code",
   "execution_count": null,
   "id": "617f286b",
   "metadata": {},
   "outputs": [],
   "source": [
    "if bankAccountBalance >= amountToSend:\n",
    "    print(\"sending money now, wait for a confirmation\")\n",
    "    print(f\"{amountToSend} sent, your accounnt balance is {bankAccountBalance - amountToSend}\")\n",
    "    \n",
    "else:\n",
    "    \n",
    "    print(\"not enough balance to perform this transaction.\")"
   ]
  },
  {
   "cell_type": "code",
   "execution_count": null,
   "id": "955eac2b",
   "metadata": {},
   "outputs": [],
   "source": []
  },
  {
   "cell_type": "code",
   "execution_count": null,
   "id": "44f75858",
   "metadata": {},
   "outputs": [],
   "source": []
  },
  {
   "cell_type": "code",
   "execution_count": null,
   "id": "59963051",
   "metadata": {},
   "outputs": [],
   "source": []
  },
  {
   "cell_type": "markdown",
   "id": "93dc27bc",
   "metadata": {},
   "source": [
    "#### Module 2(6) | **User Input**\n"
   ]
  },
  {
   "cell_type": "code",
   "execution_count": 1,
   "id": "cf3cc43d",
   "metadata": {},
   "outputs": [],
   "source": [
    "# taking user input is next, subscribe to be notify when video is uploaded."
   ]
  },
  {
   "cell_type": "code",
   "execution_count": null,
   "id": "d2e10dde",
   "metadata": {},
   "outputs": [],
   "source": []
  }
 ],
 "metadata": {
  "kernelspec": {
   "display_name": "Python 3 (ipykernel)",
   "language": "python",
   "name": "python3"
  },
  "language_info": {
   "codemirror_mode": {
    "name": "ipython",
    "version": 3
   },
   "file_extension": ".py",
   "mimetype": "text/x-python",
   "name": "python",
   "nbconvert_exporter": "python",
   "pygments_lexer": "ipython3",
   "version": "3.9.7"
  }
 },
 "nbformat": 4,
 "nbformat_minor": 5
}
