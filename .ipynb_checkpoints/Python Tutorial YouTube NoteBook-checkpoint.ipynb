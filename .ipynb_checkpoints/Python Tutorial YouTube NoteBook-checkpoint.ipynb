{
 "cells": [
  {
   "cell_type": "markdown",
   "id": "f084424e",
   "metadata": {},
   "source": [
    " # <div  style='text-align: center;'>Table of contents </div>\n",
    " \n",
    " \n",
    " \n",
    " "
   ]
  },
  {
   "cell_type": "markdown",
   "id": "1ac5ba36",
   "metadata": {},
   "source": [
    "## Module 1\n",
    "> 1. We installed python\n",
    "> 2. Talk about text editors and IDE for python programming.\n",
    "> 3. Wrote <font color=red > Hello, world </font> program."
   ]
  },
  {
   "cell_type": "code",
   "execution_count": 1,
   "id": "0aaaf3e3",
   "metadata": {},
   "outputs": [
    {
     "name": "stdout",
     "output_type": "stream",
     "text": [
      "hello world\n"
     ]
    }
   ],
   "source": [
    "print('hello world')"
   ]
  },
  {
   "cell_type": "code",
   "execution_count": 2,
   "id": "05169d27",
   "metadata": {},
   "outputs": [
    {
     "name": "stdout",
     "output_type": "stream",
     "text": [
      "I am learning python programming\n"
     ]
    }
   ],
   "source": [
    "print(\"I am learning python programming\")"
   ]
  },
  {
   "cell_type": "code",
   "execution_count": 3,
   "id": "7ce8b5c8",
   "metadata": {},
   "outputs": [
    {
     "name": "stdout",
     "output_type": "stream",
     "text": [
      "Coding is fun\n"
     ]
    }
   ],
   "source": [
    "print(\"Coding is fun\")"
   ]
  },
  {
   "cell_type": "markdown",
   "id": "10b90fcc",
   "metadata": {},
   "source": [
    "End of module 1"
   ]
  },
  {
   "cell_type": "code",
   "execution_count": null,
   "id": "72c98c3c",
   "metadata": {},
   "outputs": [],
   "source": []
  },
  {
   "attachments": {
    "image-2.png": {
     "image/png": "[encoded data removed]"
    }
   },
   "cell_type": "markdown",
   "id": "4b36974d",
   "metadata": {},
   "source": [
    "## Module 2 (Basic Concepts)\n",
    "![image-2.png](attachment:image-2.png)"
   ]
  },
  {
   "cell_type": "markdown",
   "id": "f3329c04",
   "metadata": {},
   "source": [
    "#### Module 2(1) | **Variables**"
   ]
  },
  {
   "cell_type": "code",
   "execution_count": 4,
   "id": "cfc1ddfc",
   "metadata": {},
   "outputs": [
    {
     "ename": "NameError",
     "evalue": "name 'value' is not defined",
     "output_type": "error",
     "traceback": [
      "\u001b[1;31m---------------------------------------------------------------------------\u001b[0m",
      "\u001b[1;31mNameError\u001b[0m                                 Traceback (most recent call last)",
      "\u001b[1;32m~\\AppData\\Local\\Temp/ipykernel_2364/2956659535.py\u001b[0m in \u001b[0;36m<module>\u001b[1;34m\u001b[0m\n\u001b[1;32m----> 1\u001b[1;33m \u001b[0mnamevariable\u001b[0m \u001b[1;33m=\u001b[0m \u001b[0mvalue\u001b[0m\u001b[1;33m\u001b[0m\u001b[1;33m\u001b[0m\u001b[0m\n\u001b[0m",
      "\u001b[1;31mNameError\u001b[0m: name 'value' is not defined"
     ]
    }
   ],
   "source": [
    "namevariable = value"
   ]
  },
  {
   "cell_type": "code",
   "execution_count": 5,
   "id": "4798a451",
   "metadata": {},
   "outputs": [],
   "source": [
    "number = 6"
   ]
  },
  {
   "cell_type": "code",
   "execution_count": 6,
   "id": "4acfe403",
   "metadata": {},
   "outputs": [],
   "source": [
    "name = 'seb'"
   ]
  },
  {
   "cell_type": "code",
   "execution_count": 7,
   "id": "22f6e1ff",
   "metadata": {},
   "outputs": [
    {
     "name": "stdout",
     "output_type": "stream",
     "text": [
      "6\n"
     ]
    }
   ],
   "source": [
    "print(number)"
   ]
  },
  {
   "cell_type": "code",
   "execution_count": 8,
   "id": "ee68cca1",
   "metadata": {},
   "outputs": [
    {
     "name": "stdout",
     "output_type": "stream",
     "text": [
      "seb\n"
     ]
    }
   ],
   "source": [
    "print(name)"
   ]
  },
  {
   "cell_type": "code",
   "execution_count": 9,
   "id": "f1779790",
   "metadata": {},
   "outputs": [],
   "source": [
    "age = 18\n"
   ]
  },
  {
   "cell_type": "code",
   "execution_count": 10,
   "id": "fcbdf93d",
   "metadata": {},
   "outputs": [
    {
     "name": "stdout",
     "output_type": "stream",
     "text": [
      "18\n"
     ]
    }
   ],
   "source": [
    "print(age)"
   ]
  },
  {
   "cell_type": "markdown",
   "id": "84c8c3aa",
   "metadata": {},
   "source": [
    "### Rules in naming variables"
   ]
  },
  {
   "cell_type": "markdown",
   "id": "a0c132fe",
   "metadata": {},
   "source": [
    "1. A variable name must start with a letter or the underscore character"
   ]
  },
  {
   "cell_type": "code",
   "execution_count": 11,
   "id": "ba5db654",
   "metadata": {},
   "outputs": [],
   "source": [
    "_name = \"James\""
   ]
  },
  {
   "cell_type": "code",
   "execution_count": 12,
   "id": "38e42056",
   "metadata": {},
   "outputs": [
    {
     "name": "stdout",
     "output_type": "stream",
     "text": [
      "seb\n"
     ]
    }
   ],
   "source": [
    "print(name)"
   ]
  },
  {
   "cell_type": "code",
   "execution_count": 13,
   "id": "1d1c91c5",
   "metadata": {},
   "outputs": [
    {
     "name": "stdout",
     "output_type": "stream",
     "text": [
      "James\n"
     ]
    }
   ],
   "source": [
    "print(_name)"
   ]
  },
  {
   "cell_type": "markdown",
   "id": "6db023a3",
   "metadata": {},
   "source": [
    "2. A variable name cannot start with a number"
   ]
  },
  {
   "cell_type": "code",
   "execution_count": 14,
   "id": "3f43d0f1",
   "metadata": {},
   "outputs": [
    {
     "ename": "SyntaxError",
     "evalue": "invalid syntax (Temp/ipykernel_2364/4237895465.py, line 1)",
     "output_type": "error",
     "traceback": [
      "\u001b[1;36m  File \u001b[1;32m\"C:\\Users\\SEB\\AppData\\Local\\Temp/ipykernel_2364/4237895465.py\"\u001b[1;36m, line \u001b[1;32m1\u001b[0m\n\u001b[1;33m    4age = 6\u001b[0m\n\u001b[1;37m     ^\u001b[0m\n\u001b[1;31mSyntaxError\u001b[0m\u001b[1;31m:\u001b[0m invalid syntax\n"
     ]
    }
   ],
   "source": [
    "4age = 6"
   ]
  },
  {
   "cell_type": "markdown",
   "id": "a50d014f",
   "metadata": {},
   "source": [
    "3. A variable name can only contain alpha-numeric characters and underscores (A-z, 0-9, and _ )"
   ]
  },
  {
   "cell_type": "code",
   "execution_count": 15,
   "id": "df2a2af9",
   "metadata": {},
   "outputs": [],
   "source": [
    "age4 = 734"
   ]
  },
  {
   "cell_type": "code",
   "execution_count": 16,
   "id": "7f1f2e06",
   "metadata": {},
   "outputs": [
    {
     "name": "stdout",
     "output_type": "stream",
     "text": [
      "734\n"
     ]
    }
   ],
   "source": [
    "print(age4)"
   ]
  },
  {
   "cell_type": "markdown",
   "id": "fd2651b5",
   "metadata": {},
   "source": [
    "ariable names are case-sensitive"
   ]
  },
  {
   "cell_type": "code",
   "execution_count": 17,
   "id": "230d5b96",
   "metadata": {},
   "outputs": [],
   "source": [
    "myname = \"Sebastian\""
   ]
  },
  {
   "cell_type": "code",
   "execution_count": 18,
   "id": "b1ce101a",
   "metadata": {},
   "outputs": [
    {
     "ename": "NameError",
     "evalue": "name 'Myname' is not defined",
     "output_type": "error",
     "traceback": [
      "\u001b[1;31m---------------------------------------------------------------------------\u001b[0m",
      "\u001b[1;31mNameError\u001b[0m                                 Traceback (most recent call last)",
      "\u001b[1;32m~\\AppData\\Local\\Temp/ipykernel_2364/2497241356.py\u001b[0m in \u001b[0;36m<module>\u001b[1;34m\u001b[0m\n\u001b[1;32m----> 1\u001b[1;33m \u001b[0mprint\u001b[0m\u001b[1;33m(\u001b[0m\u001b[0mMyname\u001b[0m\u001b[1;33m)\u001b[0m\u001b[1;33m\u001b[0m\u001b[1;33m\u001b[0m\u001b[0m\n\u001b[0m",
      "\u001b[1;31mNameError\u001b[0m: name 'Myname' is not defined"
     ]
    }
   ],
   "source": [
    "print(Myname)"
   ]
  },
  {
   "cell_type": "code",
   "execution_count": 19,
   "id": "ea117ed5",
   "metadata": {},
   "outputs": [
    {
     "ename": "NameError",
     "evalue": "name 'myName' is not defined",
     "output_type": "error",
     "traceback": [
      "\u001b[1;31m---------------------------------------------------------------------------\u001b[0m",
      "\u001b[1;31mNameError\u001b[0m                                 Traceback (most recent call last)",
      "\u001b[1;32m~\\AppData\\Local\\Temp/ipykernel_2364/1212358022.py\u001b[0m in \u001b[0;36m<module>\u001b[1;34m\u001b[0m\n\u001b[1;32m----> 1\u001b[1;33m \u001b[0mprint\u001b[0m\u001b[1;33m(\u001b[0m\u001b[0mmyName\u001b[0m\u001b[1;33m)\u001b[0m\u001b[1;33m\u001b[0m\u001b[1;33m\u001b[0m\u001b[0m\n\u001b[0m",
      "\u001b[1;31mNameError\u001b[0m: name 'myName' is not defined"
     ]
    }
   ],
   "source": [
    "print(myName)"
   ]
  },
  {
   "cell_type": "code",
   "execution_count": 20,
   "id": "2e1f4d60",
   "metadata": {},
   "outputs": [
    {
     "name": "stdout",
     "output_type": "stream",
     "text": [
      "Sebastian\n"
     ]
    }
   ],
   "source": [
    "print(myname)"
   ]
  },
  {
   "cell_type": "markdown",
   "id": "863ff894",
   "metadata": {},
   "source": [
    "4. A variable name cannot be any of the Python keywords."
   ]
  },
  {
   "cell_type": "code",
   "execution_count": 21,
   "id": "2201ae14",
   "metadata": {},
   "outputs": [
    {
     "ename": "SyntaxError",
     "evalue": "invalid syntax (Temp/ipykernel_2364/2414750961.py, line 1)",
     "output_type": "error",
     "traceback": [
      "\u001b[1;36m  File \u001b[1;32m\"C:\\Users\\SEB\\AppData\\Local\\Temp/ipykernel_2364/2414750961.py\"\u001b[1;36m, line \u001b[1;32m1\u001b[0m\n\u001b[1;33m    if = 83\u001b[0m\n\u001b[1;37m       ^\u001b[0m\n\u001b[1;31mSyntaxError\u001b[0m\u001b[1;31m:\u001b[0m invalid syntax\n"
     ]
    }
   ],
   "source": [
    "if = 83"
   ]
  },
  {
   "cell_type": "code",
   "execution_count": 22,
   "id": "67debc05",
   "metadata": {},
   "outputs": [
    {
     "ename": "SyntaxError",
     "evalue": "invalid syntax (Temp/ipykernel_2364/40822960.py, line 1)",
     "output_type": "error",
     "traceback": [
      "\u001b[1;36m  File \u001b[1;32m\"C:\\Users\\SEB\\AppData\\Local\\Temp/ipykernel_2364/40822960.py\"\u001b[1;36m, line \u001b[1;32m1\u001b[0m\n\u001b[1;33m    pass  = \"anything\"\u001b[0m\n\u001b[1;37m          ^\u001b[0m\n\u001b[1;31mSyntaxError\u001b[0m\u001b[1;31m:\u001b[0m invalid syntax\n"
     ]
    }
   ],
   "source": [
    "pass  = \"anything\""
   ]
  },
  {
   "cell_type": "markdown",
   "id": "c9c4c26b",
   "metadata": {},
   "source": [
    "example of python keywords.\n",
    "> 1. set\n",
    "> 2. list\n",
    "> 3. dict\n",
    "> 4. return\n",
    "> 5. <a href=\"https://www.programiz.com/python-programming/keyword-list\">more here</a>\n",
    "\n"
   ]
  },
  {
   "cell_type": "code",
   "execution_count": null,
   "id": "b2d2ad94",
   "metadata": {},
   "outputs": [],
   "source": []
  },
  {
   "cell_type": "markdown",
   "id": "70b48234",
   "metadata": {},
   "source": [
    "#### Module 2(2) | **Data types in python**\n",
    "\n",
    "*List of python data types*\n",
    "1. str (string)\n",
    "2. int (integer)\n",
    "3. float (decimal number)\n",
    "4. dict\n",
    "5. bool\n",
    "6. set, frozenset\n",
    "7. complex"
   ]
  },
  {
   "cell_type": "code",
   "execution_count": 23,
   "id": "80148d57",
   "metadata": {},
   "outputs": [],
   "source": [
    "age = 6\n",
    "name = \"sebastian\""
   ]
  },
  {
   "cell_type": "markdown",
   "id": "2a50de47",
   "metadata": {},
   "source": [
    "Built-in Data Types\n",
    "\n",
    "1. Text Type:\tstr"
   ]
  },
  {
   "cell_type": "code",
   "execution_count": 24,
   "id": "c1cc95c4",
   "metadata": {},
   "outputs": [],
   "source": [
    "fruit = 'banana'"
   ]
  },
  {
   "cell_type": "code",
   "execution_count": 25,
   "id": "e5e21e2b",
   "metadata": {},
   "outputs": [
    {
     "data": {
      "text/plain": [
       "str"
      ]
     },
     "execution_count": 25,
     "metadata": {},
     "output_type": "execute_result"
    }
   ],
   "source": [
    "type(fruit)"
   ]
  },
  {
   "cell_type": "code",
   "execution_count": 26,
   "id": "bce20fd1",
   "metadata": {},
   "outputs": [
    {
     "data": {
      "text/plain": [
       "int"
      ]
     },
     "execution_count": 26,
     "metadata": {},
     "output_type": "execute_result"
    }
   ],
   "source": [
    "type(age)"
   ]
  },
  {
   "cell_type": "code",
   "execution_count": 27,
   "id": "7ac18b83",
   "metadata": {},
   "outputs": [],
   "source": [
    "fruits = \"banana, orange, mango\""
   ]
  },
  {
   "cell_type": "code",
   "execution_count": 28,
   "id": "448bf910",
   "metadata": {},
   "outputs": [
    {
     "name": "stdout",
     "output_type": "stream",
     "text": [
      "banana, orange, mango\n"
     ]
    }
   ],
   "source": [
    "print(fruits)"
   ]
  },
  {
   "cell_type": "code",
   "execution_count": 29,
   "id": "27fc5748",
   "metadata": {},
   "outputs": [
    {
     "data": {
      "text/plain": [
       "str"
      ]
     },
     "execution_count": 29,
     "metadata": {},
     "output_type": "execute_result"
    }
   ],
   "source": [
    "type(fruits)"
   ]
  },
  {
   "cell_type": "markdown",
   "id": "357ff51c",
   "metadata": {},
   "source": [
    "2. Numeric Types:\tint, float, complex"
   ]
  },
  {
   "cell_type": "code",
   "execution_count": 30,
   "id": "3e9ea0bf",
   "metadata": {},
   "outputs": [],
   "source": [
    "# integer\n",
    "num_of_items = 10"
   ]
  },
  {
   "cell_type": "code",
   "execution_count": 31,
   "id": "f9c943ed",
   "metadata": {},
   "outputs": [
    {
     "data": {
      "text/plain": [
       "int"
      ]
     },
     "execution_count": 31,
     "metadata": {},
     "output_type": "execute_result"
    }
   ],
   "source": [
    "type(num_of_items)"
   ]
  },
  {
   "cell_type": "code",
   "execution_count": 32,
   "id": "8586f94c",
   "metadata": {},
   "outputs": [],
   "source": [
    "mark = 70.5"
   ]
  },
  {
   "cell_type": "code",
   "execution_count": 33,
   "id": "2ee2afb9",
   "metadata": {},
   "outputs": [
    {
     "data": {
      "text/plain": [
       "float"
      ]
     },
     "execution_count": 33,
     "metadata": {},
     "output_type": "execute_result"
    }
   ],
   "source": [
    "type(mark)"
   ]
  },
  {
   "cell_type": "markdown",
   "id": "fe689204",
   "metadata": {},
   "source": [
    "3. Sequence Types:\tlist, tuple"
   ]
  },
  {
   "cell_type": "code",
   "execution_count": 34,
   "id": "4769ea72",
   "metadata": {},
   "outputs": [],
   "source": [
    " names = ['seb','James', 'John']"
   ]
  },
  {
   "cell_type": "code",
   "execution_count": 35,
   "id": "3319b88e",
   "metadata": {},
   "outputs": [
    {
     "name": "stdout",
     "output_type": "stream",
     "text": [
      "['seb', 'James', 'John']\n"
     ]
    }
   ],
   "source": [
    "print(names)"
   ]
  },
  {
   "cell_type": "code",
   "execution_count": 36,
   "id": "1e84464e",
   "metadata": {},
   "outputs": [],
   "source": [
    "ages = (34,60,15)"
   ]
  },
  {
   "cell_type": "code",
   "execution_count": 37,
   "id": "b460923c",
   "metadata": {},
   "outputs": [
    {
     "name": "stdout",
     "output_type": "stream",
     "text": [
      "(34, 60, 15)\n"
     ]
    }
   ],
   "source": [
    "print(ages)"
   ]
  },
  {
   "cell_type": "markdown",
   "id": "d73cae4e",
   "metadata": {},
   "source": [
    "4. Set Types:\tset, frozenset\n",
    "5. Boolean Type:\tbool\n",
    "6. None Type:\tNoneType\n",
    "7. Mapping Type:\tdict"
   ]
  },
  {
   "cell_type": "code",
   "execution_count": 38,
   "id": "fe1405cc",
   "metadata": {},
   "outputs": [],
   "source": [
    "persons = {\n",
    "    'name': \"seb, John\",\n",
    "    'age': [45, 89]\n",
    "}"
   ]
  },
  {
   "cell_type": "code",
   "execution_count": 39,
   "id": "ed8c5b8b",
   "metadata": {},
   "outputs": [
    {
     "name": "stdout",
     "output_type": "stream",
     "text": [
      "{'name': 'seb, John', 'age': [45, 89]}\n"
     ]
    }
   ],
   "source": [
    "print(persons)"
   ]
  },
  {
   "cell_type": "code",
   "execution_count": 40,
   "id": "4f205b44",
   "metadata": {},
   "outputs": [
    {
     "data": {
      "text/plain": [
       "list"
      ]
     },
     "execution_count": 40,
     "metadata": {},
     "output_type": "execute_result"
    }
   ],
   "source": [
    "type(names)"
   ]
  },
  {
   "cell_type": "code",
   "execution_count": 41,
   "id": "36c99113",
   "metadata": {},
   "outputs": [
    {
     "data": {
      "text/plain": [
       "int"
      ]
     },
     "execution_count": 41,
     "metadata": {},
     "output_type": "execute_result"
    }
   ],
   "source": [
    "type(age)"
   ]
  },
  {
   "cell_type": "code",
   "execution_count": 42,
   "id": "2b47836d",
   "metadata": {},
   "outputs": [
    {
     "data": {
      "text/plain": [
       "tuple"
      ]
     },
     "execution_count": 42,
     "metadata": {},
     "output_type": "execute_result"
    }
   ],
   "source": [
    "type(ages)"
   ]
  },
  {
   "cell_type": "code",
   "execution_count": null,
   "id": "85730b43",
   "metadata": {},
   "outputs": [],
   "source": []
  },
  {
   "cell_type": "code",
   "execution_count": 56,
   "id": "f3d9aa4c",
   "metadata": {},
   "outputs": [
    {
     "data": {
      "text/plain": [
       "dict"
      ]
     },
     "execution_count": 56,
     "metadata": {},
     "output_type": "execute_result"
    }
   ],
   "source": [
    " #checking type of persons variable\n",
    "type(persons)"
   ]
  },
  {
   "cell_type": "code",
   "execution_count": 47,
   "id": "b88a050e",
   "metadata": {},
   "outputs": [],
   "source": [
    "None"
   ]
  },
  {
   "cell_type": "markdown",
   "id": "a5e35937",
   "metadata": {},
   "source": [
    "End of python data types, read more <a href=\"https://docs.python.org/3/library/stdtypes.html\">about data types here</a> or\n",
    "<a href=\"https://www.geeksforgeeks.org/python-data-types/\">here</a>\n"
   ]
  },
  {
   "cell_type": "code",
   "execution_count": 48,
   "id": "3086cc2e",
   "metadata": {},
   "outputs": [],
   "source": []
  },
  {
   "cell_type": "code",
   "execution_count": 49,
   "id": "60a2d6ea",
   "metadata": {},
   "outputs": [],
   "source": [
    "# comments"
   ]
  },
  {
   "cell_type": "code",
   "execution_count": 54,
   "id": "54dcf2bd",
   "metadata": {},
   "outputs": [],
   "source": [
    "x = 5 # first number\n",
    "y = 90 # second number"
   ]
  },
  {
   "cell_type": "code",
   "execution_count": 57,
   "id": "f94d8d67",
   "metadata": {},
   "outputs": [],
   "source": [
    "# result of addition\n",
    "#print(x+y)"
   ]
  },
  {
   "cell_type": "code",
   "execution_count": 58,
   "id": "f6c806d9",
   "metadata": {},
   "outputs": [
    {
     "name": "stdout",
     "output_type": "stream",
     "text": [
      "95\n"
     ]
    }
   ],
   "source": [
    "print(x+y)"
   ]
  },
  {
   "cell_type": "code",
   "execution_count": 59,
   "id": "6169d9d9",
   "metadata": {},
   "outputs": [],
   "source": [
    "# my name is seb\n",
    "# I am 10 years old\n",
    "#"
   ]
  },
  {
   "cell_type": "code",
   "execution_count": 61,
   "id": "36499eaf",
   "metadata": {},
   "outputs": [
    {
     "data": {
      "text/plain": [
       "'\\nmy name is seb and \\nI am 20 years old\\n'"
      ]
     },
     "execution_count": 61,
     "metadata": {},
     "output_type": "execute_result"
    }
   ],
   "source": [
    "\"\"\"\n",
    "my name is seb and \n",
    "I am 20 years old\n",
    "\"\"\""
   ]
  },
  {
   "cell_type": "code",
   "execution_count": 62,
   "id": "f040c8d7",
   "metadata": {},
   "outputs": [
    {
     "data": {
      "text/plain": [
       "'\\n\\n'"
      ]
     },
     "execution_count": 62,
     "metadata": {},
     "output_type": "execute_result"
    }
   ],
   "source": [
    "'''\n",
    "\n",
    "'''"
   ]
  },
  {
   "cell_type": "code",
   "execution_count": 63,
   "id": "332ca077",
   "metadata": {},
   "outputs": [],
   "source": [
    "x = 5"
   ]
  },
  {
   "cell_type": "markdown",
   "id": "6152a994",
   "metadata": {},
   "source": []
  },
  {
   "cell_type": "markdown",
   "id": "69db5cc9",
   "metadata": {},
   "source": [
    "#### Module 2(4) | **Python Arithmetic Operators**\n",
    "\n",
    "1. addition +\n",
    "2. mult *\n",
    "3. subt -\n",
    "4. div /\n",
    "5. modulus %\n",
    "6. exponent **\n",
    "7. floor div //"
   ]
  },
  {
   "cell_type": "code",
   "execution_count": 65,
   "id": "3710152f",
   "metadata": {},
   "outputs": [
    {
     "data": {
      "text/plain": [
       "15"
      ]
     },
     "execution_count": 65,
     "metadata": {},
     "output_type": "execute_result"
    }
   ],
   "source": [
    "6 + 9"
   ]
  },
  {
   "cell_type": "code",
   "execution_count": 66,
   "id": "ed3bd522",
   "metadata": {},
   "outputs": [],
   "source": [
    "num1 = 83\n",
    "num2 = 63"
   ]
  },
  {
   "cell_type": "code",
   "execution_count": 67,
   "id": "845c63ad",
   "metadata": {},
   "outputs": [
    {
     "data": {
      "text/plain": [
       "146"
      ]
     },
     "execution_count": 67,
     "metadata": {},
     "output_type": "execute_result"
    }
   ],
   "source": [
    "num1 + num2"
   ]
  },
  {
   "cell_type": "code",
   "execution_count": 68,
   "id": "a664611a",
   "metadata": {},
   "outputs": [
    {
     "data": {
      "text/plain": [
       "1.3174603174603174"
      ]
     },
     "execution_count": 68,
     "metadata": {},
     "output_type": "execute_result"
    }
   ],
   "source": [
    "num1 / num2"
   ]
  },
  {
   "cell_type": "code",
   "execution_count": 69,
   "id": "09b5eaaf",
   "metadata": {},
   "outputs": [],
   "source": [
    "x= 2"
   ]
  },
  {
   "cell_type": "code",
   "execution_count": 70,
   "id": "479403ec",
   "metadata": {},
   "outputs": [
    {
     "data": {
      "text/plain": [
       "4"
      ]
     },
     "execution_count": 70,
     "metadata": {},
     "output_type": "execute_result"
    }
   ],
   "source": [
    "2**2"
   ]
  },
  {
   "cell_type": "code",
   "execution_count": 71,
   "id": "91f702e5",
   "metadata": {},
   "outputs": [
    {
     "data": {
      "text/plain": [
       "4"
      ]
     },
     "execution_count": 71,
     "metadata": {},
     "output_type": "execute_result"
    }
   ],
   "source": [
    "x**2"
   ]
  },
  {
   "cell_type": "code",
   "execution_count": 72,
   "id": "282ff747",
   "metadata": {},
   "outputs": [
    {
     "data": {
      "text/plain": [
       "20"
      ]
     },
     "execution_count": 72,
     "metadata": {},
     "output_type": "execute_result"
    }
   ],
   "source": [
    "num1 - num2"
   ]
  },
  {
   "cell_type": "code",
   "execution_count": 73,
   "id": "89299631",
   "metadata": {},
   "outputs": [
    {
     "data": {
      "text/plain": [
       "1.3174603174603174"
      ]
     },
     "execution_count": 73,
     "metadata": {},
     "output_type": "execute_result"
    }
   ],
   "source": [
    "num1/num2"
   ]
  },
  {
   "cell_type": "code",
   "execution_count": 74,
   "id": "e56d4e3e",
   "metadata": {},
   "outputs": [
    {
     "data": {
      "text/plain": [
       "1"
      ]
     },
     "execution_count": 74,
     "metadata": {},
     "output_type": "execute_result"
    }
   ],
   "source": [
    "num1//num2"
   ]
  },
  {
   "cell_type": "code",
   "execution_count": 75,
   "id": "e7fa7725",
   "metadata": {},
   "outputs": [
    {
     "data": {
      "text/plain": [
       "49.5"
      ]
     },
     "execution_count": 75,
     "metadata": {},
     "output_type": "execute_result"
    }
   ],
   "source": [
    "99/2"
   ]
  },
  {
   "cell_type": "code",
   "execution_count": 76,
   "id": "3fab7e68",
   "metadata": {},
   "outputs": [
    {
     "data": {
      "text/plain": [
       "49"
      ]
     },
     "execution_count": 76,
     "metadata": {},
     "output_type": "execute_result"
    }
   ],
   "source": [
    "99//2"
   ]
  },
  {
   "cell_type": "code",
   "execution_count": 77,
   "id": "e79c2b4f",
   "metadata": {},
   "outputs": [
    {
     "data": {
      "text/plain": [
       "1"
      ]
     },
     "execution_count": 77,
     "metadata": {},
     "output_type": "execute_result"
    }
   ],
   "source": [
    "99%2"
   ]
  },
  {
   "cell_type": "code",
   "execution_count": 78,
   "id": "03e90285",
   "metadata": {},
   "outputs": [],
   "source": [
    "x = 8"
   ]
  },
  {
   "cell_type": "code",
   "execution_count": 80,
   "id": "f94bc94d",
   "metadata": {},
   "outputs": [],
   "source": [
    "y = x + 3"
   ]
  },
  {
   "cell_type": "code",
   "execution_count": 81,
   "id": "63e3350a",
   "metadata": {},
   "outputs": [
    {
     "name": "stdout",
     "output_type": "stream",
     "text": [
      "11\n"
     ]
    }
   ],
   "source": [
    "print(y)"
   ]
  },
  {
   "cell_type": "code",
   "execution_count": 82,
   "id": "01a3e937",
   "metadata": {},
   "outputs": [
    {
     "data": {
      "text/plain": [
       "2.6666666666666665"
      ]
     },
     "execution_count": 82,
     "metadata": {},
     "output_type": "execute_result"
    }
   ],
   "source": [
    "x / 3"
   ]
  },
  {
   "cell_type": "code",
   "execution_count": 84,
   "id": "c11941c7",
   "metadata": {},
   "outputs": [],
   "source": [
    "# value of x given in the question\n",
    "x = 6"
   ]
  },
  {
   "cell_type": "code",
   "execution_count": 87,
   "id": "b21013ab",
   "metadata": {},
   "outputs": [
    {
     "data": {
      "text/plain": [
       "22"
      ]
     },
     "execution_count": 87,
     "metadata": {},
     "output_type": "execute_result"
    }
   ],
   "source": [
    "# solution to question a\n",
    "3*x + 4"
   ]
  },
  {
   "cell_type": "code",
   "execution_count": 88,
   "id": "f862d384",
   "metadata": {},
   "outputs": [
    {
     "data": {
      "text/plain": [
       "15"
      ]
     },
     "execution_count": 88,
     "metadata": {},
     "output_type": "execute_result"
    }
   ],
   "source": [
    "# solution to question b\n",
    "2*x + 3 "
   ]
  },
  {
   "cell_type": "code",
   "execution_count": 89,
   "id": "1471f895",
   "metadata": {},
   "outputs": [
    {
     "data": {
      "text/plain": [
       "1.0"
      ]
     },
     "execution_count": 89,
     "metadata": {},
     "output_type": "execute_result"
    }
   ],
   "source": [
    "# solution to question d\n",
    "\n",
    "x/2 - 2\n"
   ]
  },
  {
   "cell_type": "code",
   "execution_count": 90,
   "id": "77967009",
   "metadata": {},
   "outputs": [
    {
     "data": {
      "text/plain": [
       "60"
      ]
     },
     "execution_count": 90,
     "metadata": {},
     "output_type": "execute_result"
    }
   ],
   "source": [
    "2*x + 3*x + 5*x"
   ]
  },
  {
   "cell_type": "code",
   "execution_count": 91,
   "id": "128ea5ac",
   "metadata": {},
   "outputs": [
    {
     "data": {
      "text/plain": [
       "60"
      ]
     },
     "execution_count": 91,
     "metadata": {},
     "output_type": "execute_result"
    }
   ],
   "source": [
    "(2*x) + (3*x) + (5*x)"
   ]
  },
  {
   "cell_type": "code",
   "execution_count": 94,
   "id": "3c492ce1",
   "metadata": {},
   "outputs": [
    {
     "data": {
      "text/plain": [
       "30"
      ]
     },
     "execution_count": 94,
     "metadata": {},
     "output_type": "execute_result"
    }
   ],
   "source": [
    "x= 2\n",
    "y = 3\n",
    "\n",
    "(3*x*y) + (2*x*y)"
   ]
  },
  {
   "cell_type": "code",
   "execution_count": 97,
   "id": "a8f1672c",
   "metadata": {},
   "outputs": [
    {
     "data": {
      "text/plain": [
       "4"
      ]
     },
     "execution_count": 97,
     "metadata": {},
     "output_type": "execute_result"
    }
   ],
   "source": [
    "4*(x**2) - 3*(x**2)"
   ]
  },
  {
   "cell_type": "code",
   "execution_count": null,
   "id": "953b5836",
   "metadata": {},
   "outputs": [],
   "source": []
  },
  {
   "cell_type": "code",
   "execution_count": 98,
   "id": "0e1aa135",
   "metadata": {},
   "outputs": [],
   "source": [
    "x = 3\n",
    "y = 5"
   ]
  },
  {
   "cell_type": "code",
   "execution_count": 101,
   "id": "6cba81b8",
   "metadata": {},
   "outputs": [
    {
     "data": {
      "text/plain": [
       "270"
      ]
     },
     "execution_count": 101,
     "metadata": {},
     "output_type": "execute_result"
    }
   ],
   "source": [
    "4*(x**2)*y - 3*(x**2)*y + 3*x*(y**2)"
   ]
  },
  {
   "cell_type": "code",
   "execution_count": null,
   "id": "3eca7b6f",
   "metadata": {},
   "outputs": [],
   "source": []
  }
 ],
 "metadata": {
  "kernelspec": {
   "display_name": "Python 3 (ipykernel)",
   "language": "python",
   "name": "python3"
  },
  "language_info": {
   "codemirror_mode": {
    "name": "ipython",
    "version": 3
   },
   "file_extension": ".py",
   "mimetype": "text/x-python",
   "name": "python",
   "nbconvert_exporter": "python",
   "pygments_lexer": "ipython3",
   "version": "3.9.7"
  }
 },
 "nbformat": 4,
 "nbformat_minor": 5
}
