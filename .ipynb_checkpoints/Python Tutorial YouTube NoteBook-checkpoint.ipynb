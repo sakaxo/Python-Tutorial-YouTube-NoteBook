{
 "cells": [
  {
   "cell_type": "markdown",
   "id": "f084424e",
   "metadata": {},
   "source": [
    " # <div  style='text-align: center;'>Table of contents </div>"
   ]
  },
  {
   "cell_type": "markdown",
   "id": "1ac5ba36",
   "metadata": {},
   "source": [
    "## Module 1\n",
    "> 1. We installed python\n",
    "> 2. Talk about text editers and IDE for python programming"
   ]
  },
  {
   "cell_type": "code",
   "execution_count": 2,
   "id": "0aaaf3e3",
   "metadata": {},
   "outputs": [
    {
     "name": "stdout",
     "output_type": "stream",
     "text": [
      "hello world\n"
     ]
    }
   ],
   "source": [
    "print('hello world')"
   ]
  }
 ],
 "metadata": {
  "kernelspec": {
   "display_name": "Python 3 (ipykernel)",
   "language": "python",
   "name": "python3"
  },
  "language_info": {
   "codemirror_mode": {
    "name": "ipython",
    "version": 3
   },
   "file_extension": ".py",
   "mimetype": "text/x-python",
   "name": "python",
   "nbconvert_exporter": "python",
   "pygments_lexer": "ipython3",
   "version": "3.9.7"
  }
 },
 "nbformat": 4,
 "nbformat_minor": 5
}
